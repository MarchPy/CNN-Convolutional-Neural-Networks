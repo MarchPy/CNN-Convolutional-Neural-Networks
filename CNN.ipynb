{
 "cells": [
  {
   "cell_type": "markdown",
   "metadata": {},
   "source": [
    "# ***<span style=\"color: yellow; background-color: black; border-radius: 10px; padding: 10px;\">CNN - Convolutional Neural Networks</span>***"
   ]
  },
  {
   "cell_type": "code",
   "execution_count": 54,
   "metadata": {},
   "outputs": [],
   "source": [
    "import os\n",
    "import numpy as np\n",
    "import tensorflow as tf\n",
    "from tensorflow import keras\n",
    "from tensorflow.keras.models import load_model\n",
    "from tensorflow.keras.preprocessing import image\n",
    "from tensorflow.keras.preprocessing.image import ImageDataGenerator"
   ]
  },
  {
   "cell_type": "markdown",
   "metadata": {},
   "source": [
    "### ***Definindo parãmetros***"
   ]
  },
  {
   "cell_type": "code",
   "execution_count": 55,
   "metadata": {},
   "outputs": [],
   "source": [
    "# Definir o tamanho do vetor de ruído de entrada para o gerador\n",
    "epochs = 1000\n",
    "batch_size = 32\n",
    "image_size = (150, 150)\n",
    "NUM_CLASSES = 10"
   ]
  },
  {
   "cell_type": "markdown",
   "metadata": {},
   "source": [
    "### ***Carregando e pré processando***"
   ]
  },
  {
   "cell_type": "code",
   "execution_count": 56,
   "metadata": {},
   "outputs": [
    {
     "name": "stdout",
     "output_type": "stream",
     "text": [
      "{0: 'cane', 1: 'cavallo', 2: 'elefante', 3: 'farfalla', 4: 'gallina', 5: 'gatto', 6: 'mucca', 7: 'pecora', 8: 'ragno', 9: 'scoiattolo'}\n",
      "Found 26179 images belonging to 10 classes.\n"
     ]
    }
   ],
   "source": [
    "dataset_dir = 'dataset'\n",
    "rotulos = sorted(os.listdir(dataset_dir))\n",
    "classe_para_rotulo = {indice: rotulo for indice, rotulo in enumerate(rotulos)}\n",
    "print(classe_para_rotulo)\n",
    "\n",
    "# Use o ImageDataGenerator para carregar e pré-processar as imagens\n",
    "data_generator = ImageDataGenerator(rescale=1.0/255.0)\n",
    "\n",
    "# Crie um gerador de fluxo de dados para treinamento\n",
    "train_generator = data_generator.flow_from_directory(\n",
    "    dataset_dir,\n",
    "    target_size=image_size,\n",
    "    batch_size=batch_size,\n",
    "    class_mode='categorical',\n",
    "    shuffle=True\n",
    ")\n"
   ]
  },
  {
   "cell_type": "markdown",
   "metadata": {},
   "source": [
    "### ***Criando modelo***"
   ]
  },
  {
   "cell_type": "code",
   "execution_count": 57,
   "metadata": {},
   "outputs": [],
   "source": [
    "def create_model():\n",
    "    model = keras.Sequential([\n",
    "        keras.layers.Conv2D(filters=64, kernel_size=(3,3), activation='relu', input_shape=(150, 150, 3)),\n",
    "        keras.layers.MaxPooling2D(pool_size=(2, 2)),\n",
    "        keras.layers.Conv2D(filters=64, kernel_size=(3,3), activation='relu'),\n",
    "        keras.layers.MaxPooling2D(pool_size=(2, 2)),\n",
    "        keras.layers.Conv2D(filters=128, kernel_size=(3,3), activation='relu'),\n",
    "        keras.layers.MaxPooling2D(pool_size=(2, 2)),\n",
    "        keras.layers.Conv2D(filters=128, kernel_size=(3,3), activation='relu'),\n",
    "        keras.layers.MaxPooling2D(pool_size=(2, 2)),\n",
    "\n",
    "        keras.layers.Flatten(),\n",
    "        keras.layers.Dropout(0.5),\n",
    "        \n",
    "        keras.layers.Dense(units=512, activation='relu'),\n",
    "        keras.layers.Dense(units=NUM_CLASSES, activation='softmax')\n",
    "    ])\n",
    "    \n",
    "    return model\n"
   ]
  },
  {
   "cell_type": "markdown",
   "metadata": {},
   "source": [
    "### ***Compilando o modelo***"
   ]
  },
  {
   "cell_type": "code",
   "execution_count": 58,
   "metadata": {},
   "outputs": [],
   "source": [
    "model = create_model()\n",
    "# Compile o modelo\n",
    "model.compile(\n",
    "    optimizer='adam',\n",
    "    loss='categorical_crossentropy',\n",
    "    metrics=['accuracy']\n",
    ")"
   ]
  },
  {
   "cell_type": "markdown",
   "metadata": {},
   "source": [
    "### ***Treinando o modelo***"
   ]
  },
  {
   "cell_type": "code",
   "execution_count": 59,
   "metadata": {},
   "outputs": [
    {
     "name": "stdout",
     "output_type": "stream",
     "text": [
      "Epoch 1/1000\n",
      "819/819 [==============================] - 982s 1s/step - loss: 1.7621 - accuracy: 0.3837\n",
      "Epoch 2/1000\n",
      "592/819 [====================>.........] - ETA: 4:07 - loss: 1.2878 - accuracy: 0.5582"
     ]
    }
   ],
   "source": [
    "\n",
    "class myCallback(tf.keras.callbacks.Callback):\n",
    "  def on_epoch_end(self, epoch, logs={}):\n",
    "    if(logs.get('accuracy')>0.9):\n",
    "      print(\"\\nReached 90% accuracy so cancelling training!\")\n",
    "      self.model.stop_training = True\n",
    "\n",
    "callbacks = myCallback()\n",
    "\n",
    "model.fit(x=train_generator, epochs=epochs, callbacks=[callbacks])"
   ]
  },
  {
   "cell_type": "markdown",
   "metadata": {},
   "source": [
    "### ***Salvando modelo já treinado***"
   ]
  },
  {
   "cell_type": "code",
   "execution_count": null,
   "metadata": {},
   "outputs": [],
   "source": [
    "model.save(\"model_cnn.h5\")"
   ]
  },
  {
   "cell_type": "markdown",
   "metadata": {},
   "source": [
    "### ***Carregando o modelo para testes***"
   ]
  },
  {
   "cell_type": "code",
   "execution_count": null,
   "metadata": {},
   "outputs": [],
   "source": [
    "# Carregue o modelo treinado\n",
    "modelo_carregado = load_model(\"model_cnn.h5\")"
   ]
  },
  {
   "cell_type": "markdown",
   "metadata": {},
   "source": [
    "### ***Fazendo predições***"
   ]
  },
  {
   "cell_type": "code",
   "execution_count": null,
   "metadata": {},
   "outputs": [],
   "source": [
    "\n",
    "# Carregue a imagem que você deseja prever\n",
    "imagem = image.load_img(input(\"Digite o caminho da imagem >>> \"), target_size=image_size)\n",
    "\n",
    "# Converta a imagem em um array numpy\n",
    "imagem_array = image.img_to_array(imagem)\n",
    "\n",
    "# Expanda as dimensões para corresponder ao formato de entrada do modelo\n",
    "imagem_array = np.expand_dims(imagem_array, axis=0)\n",
    "\n",
    "# Normalize os valores dos pixels (escala de 0 a 1)\n",
    "imagem_array /= 255.0\n",
    "\n",
    "# Faça a previsão\n",
    "previsao = modelo_carregado.predict(imagem_array)\n",
    "\n",
    "# Determine a classe com a probabilidade mais alta\n",
    "classe_predita = np.argmax(previsao, axis=1)\n",
    "\n",
    "# Crie a mensagem de saída com base na classe predita\n",
    "mensagem = f\"A imagem que você enviou foi classificada como {classe_para_rotulo[classe_predita[0]]}.\""
   ]
  },
  {
   "cell_type": "code",
   "execution_count": null,
   "metadata": {},
   "outputs": [],
   "source": [
    "mensagem"
   ]
  }
 ],
 "metadata": {
  "kernelspec": {
   "display_name": "Python 3",
   "language": "python",
   "name": "python3"
  },
  "language_info": {
   "codemirror_mode": {
    "name": "ipython",
    "version": 3
   },
   "file_extension": ".py",
   "mimetype": "text/x-python",
   "name": "python",
   "nbconvert_exporter": "python",
   "pygments_lexer": "ipython3",
   "version": "3.11.5"
  },
  "orig_nbformat": 4
 },
 "nbformat": 4,
 "nbformat_minor": 2
}
